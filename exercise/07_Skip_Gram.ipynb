{
 "cells": [
  {
   "cell_type": "code",
   "execution_count": 1,
   "metadata": {},
   "outputs": [
    {
     "data": {
      "text/plain": [
       "<torch._C.Generator at 0x1aa2ee04a30>"
      ]
     },
     "execution_count": 1,
     "metadata": {},
     "output_type": "execute_result"
    }
   ],
   "source": [
    "import torch\n",
    "import torch.nn as nn\n",
    "import torch.optim as optim\n",
    "import torch.nn.functional as F\n",
    "from torch.autograd import Variable\n",
    "\n",
    "import numpy as np\n",
    "\n",
    "torch.manual_seed(1)"
   ]
  },
  {
   "cell_type": "code",
   "execution_count": 2,
   "metadata": {},
   "outputs": [],
   "source": [
    "# Device configuration\n",
    "device = torch.device(\"cuda:0\" if torch.cuda.is_available() else \"cpu\")"
   ]
  },
  {
   "cell_type": "code",
   "execution_count": 3,
   "metadata": {},
   "outputs": [],
   "source": [
    "# define corpus\n",
    "corpus = [\n",
    "    'he is a king',\n",
    "    'she is a queen',\n",
    "    'he is a man',\n",
    "    'she is a woman',\n",
    "    'warsaw is poland capital',\n",
    "    'berlin is germany capital',\n",
    "    'paris is france capital',\n",
    "]"
   ]
  },
  {
   "cell_type": "code",
   "execution_count": 4,
   "metadata": {},
   "outputs": [
    {
     "name": "stdout",
     "output_type": "stream",
     "text": [
      "tokenized corpus: [['he', 'is', 'a', 'king'], ['she', 'is', 'a', 'queen'], ['he', 'is', 'a', 'man'], ['she', 'is', 'a', 'woman'], ['warsaw', 'is', 'poland', 'capital'], ['berlin', 'is', 'germany', 'capital'], ['paris', 'is', 'france', 'capital']]\n",
      "word2idx: {'he': 0, 'is': 1, 'a': 2, 'king': 3, 'she': 4, 'queen': 5, 'man': 6, 'woman': 7, 'warsaw': 8, 'poland': 9, 'capital': 10, 'berlin': 11, 'germany': 12, 'paris': 13, 'france': 14}\n",
      "idx2word: {0: 'he', 1: 'is', 2: 'a', 3: 'king', 4: 'she', 5: 'queen', 6: 'man', 7: 'woman', 8: 'warsaw', 9: 'poland', 10: 'capital', 11: 'berlin', 12: 'germany', 13: 'paris', 14: 'france'}\n"
     ]
    }
   ],
   "source": [
    "# step1. creating vocabulary\n",
    "\n",
    "# tokenize sentences\n",
    "def tokenize_corpus(corpus):\n",
    "    tokens = [sentence.split() for sentence in corpus]\n",
    "    return tokens\n",
    "\n",
    "tokenized_corpus = tokenize_corpus(corpus)\n",
    "\n",
    "print(\"tokenized corpus:\", tokenized_corpus)\n",
    "\n",
    "# word->idx, idx->word\n",
    "word2idx = {}\n",
    "for sentence in tokenized_corpus:\n",
    "    for token in sentence:\n",
    "        if token not in word2idx:\n",
    "            word2idx[token] = len(word2idx)\n",
    "\n",
    "idx2word = {v: k for k, v in word2idx.items()}\n",
    "\n",
    "print(\"word2idx:\", word2idx)\n",
    "print(\"idx2word:\", idx2word)\n",
    "\n",
    "word_vocab_size = len(word2idx)"
   ]
  },
  {
   "cell_type": "code",
   "execution_count": 5,
   "metadata": {},
   "outputs": [
    {
     "name": "stdout",
     "output_type": "stream",
     "text": [
      "(84, 2)\n"
     ]
    }
   ],
   "source": [
    "# step 2. Generate pairs (center word - context word)\n",
    "window_size = 2\n",
    "idx_pairs = []\n",
    "\n",
    "# for each sentence\n",
    "for sentence in tokenized_corpus:\n",
    "    word_idxs = [word2idx[word] for word in sentence]\n",
    "    for center_word_pos in range(len(word_idxs)):\n",
    "        for context_word_pos in range(len(word_idxs)):\n",
    "            if center_word_pos == context_word_pos:\n",
    "                pass\n",
    "            else:\n",
    "                idx_pairs.append((word_idxs[center_word_pos], word_idxs[context_word_pos]))\n",
    "idx_pairs = np.array(idx_pairs)\n",
    "print(idx_pairs.shape)"
   ]
  },
  {
   "cell_type": "markdown",
   "metadata": {},
   "source": [
    "## Defining goal\n",
    "@ We want to predict context, given center word and soma parametrization.\n",
    "\n",
    "@ We are making P(context | center) close to 0 for all non-existing (context, center) pairs."
   ]
  },
  {
   "cell_type": "code",
   "execution_count": 9,
   "metadata": {},
   "outputs": [],
   "source": [
    "# input layer: just the center word encoded in one-hot manner.\n",
    "def get_one_hot(word_idx, word_vocab_size):\n",
    "    x = torch.zeros(word_vocab_size).float()\n",
    "    x[word_idx] = 1.0\n",
    "    return x"
   ]
  },
  {
   "cell_type": "code",
   "execution_count": 10,
   "metadata": {},
   "outputs": [
    {
     "name": "stdout",
     "output_type": "stream",
     "text": [
      "tensor([[-0.1637, -0.3582, -0.0594, -2.4919,  0.2423,  0.2883, -0.1095,\n",
      "          0.3126, -0.3417,  0.9473,  0.6223, -0.4481, -0.2856,  0.3880,\n",
      "         -1.1435],\n",
      "        [-0.6512, -2.9167, -0.5673, -1.1992, -0.0474, -2.0030, -0.4914,\n",
      "          1.7086,  0.7913,  0.7282,  0.0571, -0.7092, -0.5262, -1.1042,\n",
      "         -0.6994],\n",
      "        [ 0.5580, -0.9059,  1.8364,  1.3245, -0.0705,  0.3470, -0.6537,\n",
      "          1.5586,  0.4001,  2.4423,  1.4571,  1.7710, -2.0173,  0.4235,\n",
      "          0.5730],\n",
      "        [-1.7962, -0.3061, -0.4203,  0.3909,  0.3872,  2.6415, -0.9624,\n",
      "         -0.2076, -1.3889,  0.0127, -1.8734, -0.9295,  0.2936,  1.6604,\n",
      "          0.8956],\n",
      "        [ 0.1675,  0.7514,  2.4142,  1.0206, -0.4405, -1.7342, -1.0257,\n",
      "          1.5786, -1.1161,  0.7678, -0.5882,  2.1189, -0.5422, -2.4593,\n",
      "         -0.9502]])\n",
      "tensor([[-1.1187,  0.7580, -0.4957, -0.1970, -0.0334],\n",
      "        [ 0.7193,  1.0644, -0.8336, -1.9162, -0.3420],\n",
      "        [-0.6605,  0.3151,  1.1423,  0.3055, -0.5789],\n",
      "        [ 0.5644, -1.3542,  0.2687,  0.1146, -1.5563],\n",
      "        [-1.0757, -0.8752, -0.4728, -0.7531, -0.0586],\n",
      "        [ 1.1788,  0.6222,  0.7879,  1.3686, -0.8507],\n",
      "        [ 0.5126,  0.3331, -0.3176,  0.1395,  2.3403],\n",
      "        [-0.6116,  0.8160,  0.2477, -0.3867, -0.2004],\n",
      "        [ 0.7993, -0.2619,  0.1513,  1.1982, -2.2833],\n",
      "        [-1.0130, -0.8879,  0.1437, -0.8726,  0.0353],\n",
      "        [-0.3365,  1.4023,  0.4841, -0.7030, -0.8268],\n",
      "        [ 0.1012,  0.6920, -1.0185, -0.8034,  0.2936],\n",
      "        [-0.4139, -0.0960, -1.3281,  0.2324,  0.8615],\n",
      "        [ 0.6218, -1.7812, -0.0339, -0.5396, -1.8074],\n",
      "        [ 0.3425,  0.8532,  0.0551, -1.7425,  0.8750]])\n"
     ]
    }
   ],
   "source": [
    "embedding_dim = 5\n",
    "\n",
    "W1 = torch.randn((embedding_dim, word_vocab_size), requires_grad=True).to(device)\n",
    "W2 = torch.randn((word_vocab_size, embedding_dim), requires_grad=True).to(device)\n",
    "\n",
    "num_epochs = 500\n",
    "lr = 0.01\n",
    "\n",
    "print(W1)\n",
    "print(W2)"
   ]
  },
  {
   "cell_type": "code",
   "execution_count": 11,
   "metadata": {},
   "outputs": [
    {
     "name": "stdout",
     "output_type": "stream",
     "text": [
      "[1/500] loss:4.720\n",
      "[11/500] loss:2.890\n",
      "[21/500] loss:2.548\n",
      "[31/500] loss:2.377\n",
      "[41/500] loss:2.266\n",
      "[51/500] loss:2.192\n",
      "[61/500] loss:2.139\n",
      "[71/500] loss:2.097\n",
      "[81/500] loss:2.061\n",
      "[91/500] loss:2.030\n",
      "[101/500] loss:2.003\n",
      "[111/500] loss:1.980\n",
      "[121/500] loss:1.959\n",
      "[131/500] loss:1.942\n",
      "[141/500] loss:1.926\n",
      "[151/500] loss:1.912\n",
      "[161/500] loss:1.900\n",
      "[171/500] loss:1.889\n",
      "[181/500] loss:1.879\n",
      "[191/500] loss:1.870\n",
      "[201/500] loss:1.863\n",
      "[211/500] loss:1.856\n",
      "[221/500] loss:1.849\n",
      "[231/500] loss:1.844\n",
      "[241/500] loss:1.838\n",
      "[251/500] loss:1.833\n",
      "[261/500] loss:1.829\n",
      "[271/500] loss:1.825\n",
      "[281/500] loss:1.821\n",
      "[291/500] loss:1.817\n",
      "[301/500] loss:1.814\n",
      "[311/500] loss:1.811\n",
      "[321/500] loss:1.808\n",
      "[331/500] loss:1.805\n",
      "[341/500] loss:1.803\n",
      "[351/500] loss:1.800\n",
      "[361/500] loss:1.798\n",
      "[371/500] loss:1.796\n",
      "[381/500] loss:1.795\n",
      "[391/500] loss:1.793\n",
      "[401/500] loss:1.791\n",
      "[411/500] loss:1.790\n",
      "[421/500] loss:1.789\n",
      "[431/500] loss:1.788\n",
      "[441/500] loss:1.786\n",
      "[451/500] loss:1.785\n",
      "[461/500] loss:1.784\n",
      "[471/500] loss:1.783\n",
      "[481/500] loss:1.782\n",
      "[491/500] loss:1.781\n"
     ]
    }
   ],
   "source": [
    "for epoch in range(num_epochs):\n",
    "    loss_val = 0\n",
    "    for center, context in idx_pairs:    \n",
    "        input = get_one_hot(center, word_vocab_size).to(device).float()\n",
    "        target = torch.from_numpy(np.array([context])).to(device).long()\n",
    "        w1_out = torch.matmul(W1, input)\n",
    "        w2_out = torch.matmul(W2, w1_out)\n",
    "\n",
    "        log_softmax = F.log_softmax(w2_out, dim=0).view(1, -1)\n",
    "            \n",
    "        loss = F.nll_loss(log_softmax, target)\n",
    "        loss_val += loss.item()\n",
    "        loss.backward()\n",
    "        \n",
    "        W1.data -= lr * W1.grad.data\n",
    "        W2.data -= lr * W2.grad.data\n",
    "        \n",
    "        W1.grad.data.zero_()\n",
    "        W2.grad.data.zero_()\n",
    "    \n",
    "    if epoch % 10 == 0:\n",
    "        print(\"[%d/%d] loss:%.3f\" % (epoch+1, num_epochs, loss_val / float(len(idx_pairs))))\n",
    "        "
   ]
  },
  {
   "cell_type": "code",
   "execution_count": 54,
   "metadata": {},
   "outputs": [
    {
     "name": "stdout",
     "output_type": "stream",
     "text": [
      "After training:\n",
      "W1: tensor([[-0.2463, -0.4564,  0.1441, -2.6080, -0.7228, -0.3885, -2.2852,\n",
      "         -1.3433, -0.2435,  0.4695,  1.6576, -1.1960, -1.6613, -0.0691,\n",
      "         -0.0687],\n",
      "        [-3.0713,  0.2249, -0.1971, -0.8581, -0.4962, -1.5168, -0.9734,\n",
      "         -0.8779,  1.5239,  1.8580,  0.3411,  1.5993, -0.7152, -0.1786,\n",
      "         -0.8211],\n",
      "        [ 0.5710, -0.8972,  2.4528,  1.2583,  1.4982,  2.2863,  0.2294,\n",
      "          2.8210,  0.6974,  2.5824,  0.6984,  0.8155, -1.1190, -0.0131,\n",
      "          0.4959],\n",
      "        [-0.4949,  1.0156, -0.7635, -0.5160,  0.7351,  1.5573, -0.8714,\n",
      "          1.1148, -2.1876, -0.4380, -2.4377, -1.9136, -1.8188, -1.0245,\n",
      "          0.2124],\n",
      "        [ 1.0556, -0.4113,  2.6040,  1.2987, -0.0845, -0.6042,  0.6669,\n",
      "          0.8715, -1.0889, -1.4144, -0.0757,  0.0070, -1.8224, -2.3386,\n",
      "         -2.8158]])\n",
      "torch.Size([5, 15])\n",
      "W2: tensor([[-1.8206,  0.3586, -0.6200, -0.3511,  1.6847],\n",
      "        [-1.1655, -1.1493,  2.2767, -2.1123, -1.4146],\n",
      "        [-1.9692, -1.5241,  0.3530,  0.7161, -0.2551],\n",
      "        [ 0.5057, -1.0843, -0.3418,  0.2152,  1.0774],\n",
      "        [ 0.1880, -0.2364,  0.9608,  1.6641,  0.6832],\n",
      "        [ 0.3778,  0.1959,  0.9912,  0.9831,  0.1966],\n",
      "        [ 0.5619, -1.0124, -0.9661,  0.1164,  1.6982],\n",
      "        [-0.1921,  0.1706,  0.9589,  0.6561,  0.1709],\n",
      "        [ 1.8197,  1.4376,  0.3571,  0.2165, -1.1503],\n",
      "        [ 0.2234,  1.6776, -0.7662, -1.2422, -0.9987],\n",
      "        [-1.5462,  1.3651,  0.2743, -0.5979, -2.3497],\n",
      "        [ 0.1359, -0.1183, -2.1530, -1.9258, -0.3878],\n",
      "        [-0.3126,  1.6942, -1.4625, -1.7618,  0.6437],\n",
      "        [ 1.8109, -0.5551, -0.2927, -0.2231, -1.8515],\n",
      "        [ 0.9928,  0.3803, -0.7892, -0.9090, -1.8790]])\n",
      "torch.Size([15, 5])\n",
      "matmul(W1, onehot): tensor([-0.2463, -3.0713,  0.5710, -0.4949,  1.0556])\n",
      "matmul(onehot.t(), W2): tensor([[-1.8206,  0.3586, -0.6200, -0.3511,  1.6847]])\n"
     ]
    }
   ],
   "source": [
    "print(\"After training:\")\n",
    "\n",
    "print(\"W1:\", W1)\n",
    "print(W1.shape)\n",
    "print(\"W2:\", W2)\n",
    "print(W2.shape)\n",
    "\n",
    "onehot = get_one_hot(idx_pairs[0][0], word_vocab_size)\n",
    "\n",
    "print(\"matmul(W1, onehot):\", torch.matmul(W1, onehot)) \n",
    "print(\"matmul(onehot.t(), W2):\", torch.matmul(onehot.view(1, len(word2idx)), W2))"
   ]
  },
  {
   "cell_type": "code",
   "execution_count": 13,
   "metadata": {},
   "outputs": [
    {
     "name": "stdout",
     "output_type": "stream",
     "text": [
      "Test input: he\n",
      "Test output: a, is, man, king, she, he, woman, berlin, queen, paris, france, germany, capital, warsaw, poland, "
     ]
    }
   ],
   "source": [
    "input = idx_pairs[0][0]\n",
    "target = idx_pairs[0][1]\n",
    "\n",
    "print(\"Test input:\", idx2word[input])\n",
    "\n",
    "input = get_one_hot(input, word_vocab_size)\n",
    "w1_out = torch.matmul(W1, input)\n",
    "w2_out = torch.matmul(W2, w1_out)\n",
    "log_softmax = F.log_softmax(w2_out, dim=0).view(1, -1)    \n",
    "\n",
    "sorted = np.argsort(log_softmax.data[0]).numpy()\n",
    "\n",
    "print(\"Test output:\", end=' ')\n",
    "for idx in sorted[::-1]:\n",
    "    print(idx2word[idx], end=', ')"
   ]
  },
  {
   "cell_type": "code",
   "execution_count": 39,
   "metadata": {},
   "outputs": [
    {
     "name": "stdout",
     "output_type": "stream",
     "text": [
      "{'he': {'is', 'man', 'a', 'king'}, 'is': {'man', 'poland', 'capital', 'berlin', 'woman', 'germany', 'she', 'paris', 'king', 'france', 'warsaw', 'he', 'a', 'queen'}, 'a': {'man', 'she', 'king', 'he', 'is', 'woman', 'queen'}, 'king': {'is', 'he', 'a'}, 'she': {'is', 'a', 'woman', 'queen'}, 'queen': {'is', 'a', 'she'}, 'man': {'is', 'he', 'a'}, 'woman': {'is', 'a', 'she'}, 'warsaw': {'is', 'poland', 'capital'}, 'poland': {'is', 'capital', 'warsaw'}, 'capital': {'poland', 'berlin', 'germany', 'paris', 'warsaw', 'is', 'france'}, 'berlin': {'is', 'capital', 'germany'}, 'germany': {'is', 'capital', 'berlin'}, 'paris': {'is', 'capital', 'france'}, 'france': {'is', 'capital', 'paris'}}\n"
     ]
    }
   ],
   "source": [
    "all_dict = {}\n",
    "for idx in range(len(word2idx)):\n",
    "    word_pair = []\n",
    "    for center, context in idx_pairs:\n",
    "        if idx == center:\n",
    "            word_pair.append(idx2word[context])\n",
    "    all_dict[idx2word[idx]] = set(word_pair)\n",
    "    \n",
    "print(all_dict)"
   ]
  },
  {
   "cell_type": "code",
   "execution_count": 79,
   "metadata": {},
   "outputs": [
    {
     "data": {
      "image/png": "[encoded data removed]",
      "text/plain": [
       "<Figure size 720x720 with 1 Axes>"
      ]
     },
     "metadata": {},
     "output_type": "display_data"
    }
   ],
   "source": [
    "# If i choose W2\n",
    "# plotting correlation matrix\n",
    "# lighter color => more related\n",
    "\n",
    "import matplotlib.pyplot as plt\n",
    "\n",
    "corr = torch.matmul(W2, W2.permute(1, 0)).detach().numpy()\n",
    "plt.figure(figsize=(10, 10))\n",
    "plt.matshow(corr, fignum=1)\n",
    "\n",
    "groups = list(word2idx.keys())\n",
    "\n",
    "x_pos = np.arange(len(groups))\n",
    "plt.xticks(x_pos, groups)\n",
    "\n",
    "y_pos = np.arange(len(groups))\n",
    "plt.yticks(y_pos, groups)\n",
    "\n",
    "plt.show()"
   ]
  }
 ],
 "metadata": {
  "kernelspec": {
   "display_name": "pytorch",
   "language": "python",
   "name": "pytorch"
  },
  "language_info": {
   "codemirror_mode": {
    "name": "ipython",
    "version": 3
   },
   "file_extension": ".py",
   "mimetype": "text/x-python",
   "name": "python",
   "nbconvert_exporter": "python",
   "pygments_lexer": "ipython3",
   "version": "3.6.5"
  }
 },
 "nbformat": 4,
 "nbformat_minor": 2
}
