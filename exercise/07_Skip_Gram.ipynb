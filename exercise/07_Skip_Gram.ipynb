{
 "cells": [
  {
   "cell_type": "code",
   "execution_count": 1,
   "metadata": {},
   "outputs": [
    {
     "data": {
      "text/plain": [
       "<torch._C.Generator at 0x1ef3e300cb0>"
      ]
     },
     "execution_count": 1,
     "metadata": {},
     "output_type": "execute_result"
    }
   ],
   "source": [
    "import torch\n",
    "import torch.nn as nn\n",
    "import torch.optim as optim\n",
    "import torch.nn.functional as F\n",
    "from torch.autograd import Variable\n",
    "\n",
    "import numpy as np\n",
    "\n",
    "torch.manual_seed(1)"
   ]
  },
  {
   "cell_type": "code",
   "execution_count": 2,
   "metadata": {},
   "outputs": [],
   "source": [
    "# Device configuration\n",
    "device = torch.device(\"cuda:0\" if torch.cuda.is_available() else \"cpu\")"
   ]
  },
  {
   "cell_type": "code",
   "execution_count": 3,
   "metadata": {},
   "outputs": [],
   "source": [
    "# define corpus\n",
    "corpus = [\n",
    "    'he is a king',\n",
    "    'she is a queen',\n",
    "    'he is a man',\n",
    "    'she is a woman',\n",
    "    'warsaw is poland capital',\n",
    "    'berlin is germany capital',\n",
    "    'paris is france capital',\n",
    "]"
   ]
  },
  {
   "cell_type": "code",
   "execution_count": 4,
   "metadata": {},
   "outputs": [
    {
     "name": "stdout",
     "output_type": "stream",
     "text": [
      "tokenized corpus: [['he', 'is', 'a', 'king'], ['she', 'is', 'a', 'queen'], ['he', 'is', 'a', 'man'], ['she', 'is', 'a', 'woman'], ['warsaw', 'is', 'poland', 'capital'], ['berlin', 'is', 'germany', 'capital'], ['paris', 'is', 'france', 'capital']]\n",
      "word2idx: {'he': 0, 'is': 1, 'a': 2, 'king': 3, 'she': 4, 'queen': 5, 'man': 6, 'woman': 7, 'warsaw': 8, 'poland': 9, 'capital': 10, 'berlin': 11, 'germany': 12, 'paris': 13, 'france': 14}\n",
      "idx2word: {0: 'he', 1: 'is', 2: 'a', 3: 'king', 4: 'she', 5: 'queen', 6: 'man', 7: 'woman', 8: 'warsaw', 9: 'poland', 10: 'capital', 11: 'berlin', 12: 'germany', 13: 'paris', 14: 'france'}\n"
     ]
    }
   ],
   "source": [
    "# step1. creating vocabulary\n",
    "\n",
    "# tokenize sentences\n",
    "def tokenize_corpus(corpus):\n",
    "    tokens = [sentence.split() for sentence in corpus]\n",
    "    return tokens\n",
    "\n",
    "tokenized_corpus = tokenize_corpus(corpus)\n",
    "\n",
    "print(\"tokenized corpus:\", tokenized_corpus)\n",
    "\n",
    "# word->idx, idx->word\n",
    "word2idx = {}\n",
    "for sentence in tokenized_corpus:\n",
    "    for token in sentence:\n",
    "        if token not in word2idx:\n",
    "            word2idx[token] = len(word2idx)\n",
    "\n",
    "idx2word = {v: k for k, v in word2idx.items()}\n",
    "\n",
    "print(\"word2idx:\", word2idx)\n",
    "print(\"idx2word:\", idx2word)\n",
    "\n",
    "word_vocab_size = len(word2idx)"
   ]
  },
  {
   "cell_type": "code",
   "execution_count": 5,
   "metadata": {},
   "outputs": [
    {
     "name": "stdout",
     "output_type": "stream",
     "text": [
      "(84, 2)\n"
     ]
    }
   ],
   "source": [
    "# step 2. Generate pairs (center word - context word)\n",
    "window_size = 2\n",
    "idx_pairs = []\n",
    "\n",
    "# for each sentence\n",
    "for sentence in tokenized_corpus:\n",
    "    word_idxs = [word2idx[word] for word in sentence]\n",
    "    for center_word_pos in range(len(word_idxs)):\n",
    "        for context_word_pos in range(len(word_idxs)):\n",
    "            if center_word_pos == context_word_pos:\n",
    "                pass\n",
    "            else:\n",
    "                idx_pairs.append((word_idxs[center_word_pos], word_idxs[context_word_pos]))\n",
    "idx_pairs = np.array(idx_pairs)\n",
    "print(idx_pairs.shape)"
   ]
  },
  {
   "cell_type": "markdown",
   "metadata": {},
   "source": [
    "## Defining goal\n",
    "@ We want to predict context, given center word and soma parametrization.\n",
    "\n",
    "@ We are making P(context | center) close to 0 for all non-existing (context, center) pairs."
   ]
  },
  {
   "cell_type": "code",
   "execution_count": 6,
   "metadata": {},
   "outputs": [],
   "source": [
    "# input layer: just the center word encoded in one-hot manner.\n",
    "def get_one_hot(word_idx, word_vocab_size):\n",
    "    x = torch.zeros(word_vocab_size).float()\n",
    "    x[word_idx] = 1.0\n",
    "    return x"
   ]
  },
  {
   "cell_type": "code",
   "execution_count": 7,
   "metadata": {},
   "outputs": [
    {
     "name": "stdout",
     "output_type": "stream",
     "text": [
      "tensor([[-1.5256, -0.7502, -0.6540, -1.6095, -0.1002],\n",
      "        [-0.6092, -0.9798, -1.6091, -0.7121,  0.3037],\n",
      "        [-0.7773, -0.2515, -0.2223,  1.6871,  0.2284],\n",
      "        [ 0.4676, -0.6970, -1.1608,  0.6995,  0.1991],\n",
      "        [ 0.8657,  0.2444, -0.6629,  0.8073,  1.1017],\n",
      "        [-0.1759, -2.2456, -1.4465,  0.0612, -0.6177],\n",
      "        [-0.7981, -0.1316,  1.8793, -0.0721,  0.1578],\n",
      "        [-0.7735,  0.1991,  0.0457,  0.1530, -0.4757],\n",
      "        [-0.1110,  0.2927, -0.1578, -0.0288,  2.3571],\n",
      "        [-1.0373,  1.5748, -0.6298, -0.9274,  0.5451],\n",
      "        [ 0.0663, -0.4370,  0.7626,  0.4415,  1.1651],\n",
      "        [ 2.0154,  0.1374,  0.9386, -0.1860, -1.1802],\n",
      "        [ 0.4100,  0.4085,  0.2579,  1.0950, -0.5065],\n",
      "        [ 0.0998, -0.6540,  0.7000, -1.4567,  1.6089],\n",
      "        [ 0.0938, -1.2597,  0.2546, -0.5020, -1.0412]])\n",
      "tensor([[-0.3003,  1.3075, -1.1628,  0.1196, -0.1631,  0.6614,  1.1899,\n",
      "          0.8165,  0.4208, -0.3538,  0.7639, -0.5890, -0.7636,  1.3352,\n",
      "          0.6043],\n",
      "        [-0.1034,  0.8539,  1.2466,  0.5057,  0.9505,  1.2966,  0.8738,\n",
      "         -0.5603,  1.2858, -0.8743, -1.4648, -1.2629,  1.1220,  1.5663,\n",
      "          2.5581],\n",
      "        [-0.2334, -0.0135, -0.4954,  1.5496,  0.3476,  0.0930,  0.6147,\n",
      "          0.7124, -1.7765,  0.3539, -0.4021, -0.7123, -0.6200, -0.2281,\n",
      "         -0.7893],\n",
      "        [-1.6111, -1.8716,  0.5431, -0.2155,  0.2705,  0.5597, -0.3184,\n",
      "          1.5117, -1.3633, -0.9832,  1.5113, -0.3472, -0.7474, -0.9234,\n",
      "          0.8748],\n",
      "        [ 0.9873,  0.2505, -0.7930,  0.5231,  1.2236, -0.9458, -1.3529,\n",
      "         -0.0052, -0.0789, -0.3891, -0.0796,  0.7605, -1.0025,  0.9462,\n",
      "          0.3512]])\n"
     ]
    }
   ],
   "source": [
    "embedding_dim = 5\n",
    "\n",
    "W1 = torch.randn((word_vocab_size, embedding_dim), requires_grad=True).to(device)\n",
    "W2 = torch.randn((embedding_dim, word_vocab_size), requires_grad=True).to(device)\n",
    "\n",
    "num_epochs = 500\n",
    "lr = 0.01\n",
    "\n",
    "print(W1)\n",
    "print(W2)"
   ]
  },
  {
   "cell_type": "code",
   "execution_count": 8,
   "metadata": {},
   "outputs": [
    {
     "name": "stdout",
     "output_type": "stream",
     "text": [
      "[1/500] loss:4.220\n",
      "[11/500] loss:2.865\n",
      "[21/500] loss:2.559\n",
      "[31/500] loss:2.398\n",
      "[41/500] loss:2.284\n",
      "[51/500] loss:2.198\n",
      "[61/500] loss:2.133\n",
      "[71/500] loss:2.084\n",
      "[81/500] loss:2.044\n",
      "[91/500] loss:2.012\n",
      "[101/500] loss:1.984\n",
      "[111/500] loss:1.960\n",
      "[121/500] loss:1.939\n",
      "[131/500] loss:1.920\n",
      "[141/500] loss:1.904\n",
      "[151/500] loss:1.890\n",
      "[161/500] loss:1.877\n",
      "[171/500] loss:1.866\n",
      "[181/500] loss:1.856\n",
      "[191/500] loss:1.848\n",
      "[201/500] loss:1.840\n",
      "[211/500] loss:1.833\n",
      "[221/500] loss:1.827\n",
      "[231/500] loss:1.822\n",
      "[241/500] loss:1.818\n",
      "[251/500] loss:1.814\n",
      "[261/500] loss:1.810\n",
      "[271/500] loss:1.806\n",
      "[281/500] loss:1.803\n",
      "[291/500] loss:1.801\n",
      "[301/500] loss:1.798\n",
      "[311/500] loss:1.795\n",
      "[321/500] loss:1.793\n",
      "[331/500] loss:1.791\n",
      "[341/500] loss:1.789\n",
      "[351/500] loss:1.787\n",
      "[361/500] loss:1.785\n",
      "[371/500] loss:1.783\n",
      "[381/500] loss:1.782\n",
      "[391/500] loss:1.780\n",
      "[401/500] loss:1.778\n",
      "[411/500] loss:1.777\n",
      "[421/500] loss:1.775\n",
      "[431/500] loss:1.774\n",
      "[441/500] loss:1.773\n",
      "[451/500] loss:1.771\n",
      "[461/500] loss:1.770\n",
      "[471/500] loss:1.769\n",
      "[481/500] loss:1.768\n",
      "[491/500] loss:1.767\n"
     ]
    }
   ],
   "source": [
    "for epoch in range(num_epochs):\n",
    "    loss_val = 0\n",
    "    for center, context in idx_pairs:    \n",
    "        input = get_one_hot(center, word_vocab_size).to(device).float()\n",
    "        target = torch.from_numpy(np.array([context])).to(device).long()\n",
    "        w1_out = torch.matmul(input, W1)\n",
    "        w2_out = torch.matmul(w1_out, W2)\n",
    "        \n",
    "        log_softmax = F.log_softmax(w2_out, dim=0).view(1, -1)\n",
    "            \n",
    "        loss = F.nll_loss(log_softmax, target)\n",
    "        loss_val += loss.item()\n",
    "        loss.backward()\n",
    "        \n",
    "        W1.data -= lr * W1.grad.data\n",
    "        W2.data -= lr * W2.grad.data\n",
    "        \n",
    "        W1.grad.data.zero_()\n",
    "        W2.grad.data.zero_()\n",
    "    \n",
    "    if epoch % 10 == 0:\n",
    "        print(\"[%d/%d] loss:%.3f\" % (epoch+1, num_epochs, loss_val / float(len(idx_pairs))))\n",
    "        "
   ]
  },
  {
   "cell_type": "code",
   "execution_count": 9,
   "metadata": {},
   "outputs": [
    {
     "name": "stdout",
     "output_type": "stream",
     "text": [
      "After training:\n",
      "W1: tensor([[-1.7835,  0.1153, -0.2252, -2.5969, -1.0870],\n",
      "        [ 0.1578, -0.2269, -0.4201,  0.7910, -0.6297],\n",
      "        [-1.9548, -0.0257,  1.1929, -0.7249,  1.2230],\n",
      "        [-1.6002, -0.6978, -1.2067, -0.4119,  1.0497],\n",
      "        [-0.8469,  0.6052, -2.2162, -0.0482,  2.0459],\n",
      "        [-1.0170, -2.2390, -1.4882, -0.7445,  0.0791],\n",
      "        [-2.5230, -0.2487, -0.8399, -1.0116,  1.0249],\n",
      "        [-1.4735, -1.6889, -1.0667, -0.8655,  0.2084],\n",
      "        [ 1.0330, -1.0755,  0.8461,  0.3181,  2.5823],\n",
      "        [ 1.6674,  0.2928, -1.8276, -0.7863,  0.7856],\n",
      "        [ 1.1310,  0.8380,  1.3122, -1.1376,  0.7753],\n",
      "        [ 2.3192, -1.1896,  0.6457, -1.9716, -0.5290],\n",
      "        [ 1.1719, -1.7593,  1.2055, -0.8463,  0.4476],\n",
      "        [ 1.9922,  0.4902, -0.3552, -0.1955,  2.4133],\n",
      "        [ 1.6021, -0.8729, -1.0631, -1.6164, -0.8250]])\n",
      "torch.Size([15, 5])\n",
      "W2: tensor([[-1.9577,  0.3646, -1.5099, -1.0916, -1.3976, -0.9445, -1.2504,\n",
      "         -0.8774,  1.6550,  1.3349,  2.9809,  1.3457,  1.7041,  1.6923,\n",
      "          1.8382],\n",
      "        [ 0.0697, -0.6198,  0.4610,  0.4773, -1.6897,  1.6315,  0.8889,\n",
      "          1.1601,  2.8181,  0.3245, -1.1925, -0.3981,  0.7241,  1.1842,\n",
      "          2.1543],\n",
      "        [-0.6520, -0.7404, -2.6524,  0.7579,  0.2743, -0.4310,  0.5673,\n",
      "         -0.4022, -1.1495,  1.2059, -0.8079,  1.7703,  0.9584, -0.3590,\n",
      "          0.0610],\n",
      "        [ 0.5324, -3.3207, -0.5763, -0.7339,  0.1945,  0.8185, -0.6422,\n",
      "          0.9762, -0.7533,  0.9122,  0.4518,  0.1210, -0.8705, -1.2721,\n",
      "          1.0523],\n",
      "        [ 0.2071,  2.1992, -0.8713, -1.2197, -0.1646,  1.0996, -1.1778,\n",
      "          1.3232, -0.4793,  1.0118,  0.5187, -0.2520, -1.6390, -1.0525,\n",
      "          0.8919]])\n",
      "torch.Size([5, 15])\n"
     ]
    }
   ],
   "source": [
    "print(\"After training:\")\n",
    "\n",
    "print(\"W1:\", W1)\n",
    "print(W1.shape)\n",
    "print(\"W2:\", W2)\n",
    "print(W2.shape)\n"
   ]
  },
  {
   "cell_type": "code",
   "execution_count": 10,
   "metadata": {},
   "outputs": [
    {
     "name": "stdout",
     "output_type": "stream",
     "text": [
      "Test input: he\n",
      "Test output: a, is, man, king, he, she, paris, germany, warsaw, queen, woman, berlin, poland, france, capital, "
     ]
    }
   ],
   "source": [
    "input = idx_pairs[0][0]\n",
    "target = idx_pairs[0][1]\n",
    "\n",
    "print(\"Test input:\", idx2word[input])\n",
    "\n",
    "input = get_one_hot(input, word_vocab_size)\n",
    "w1_out = torch.matmul(input, W1)\n",
    "w2_out = torch.matmul(w1_out, W2)\n",
    "log_softmax = F.log_softmax(w2_out, dim=0).view(1, -1)    \n",
    "\n",
    "sorted = np.argsort(log_softmax.data[0]).numpy()\n",
    "\n",
    "print(\"Test output:\", end=' ')\n",
    "for idx in sorted[::-1]:\n",
    "    print(idx2word[idx], end=', ')"
   ]
  },
  {
   "cell_type": "code",
   "execution_count": 11,
   "metadata": {},
   "outputs": [
    {
     "name": "stdout",
     "output_type": "stream",
     "text": [
      "{'he': {'man', 'a', 'king', 'is'}, 'is': {'she', 'queen', 'poland', 'germany', 'warsaw', 'berlin', 'he', 'king', 'a', 'paris', 'woman', 'man', 'france', 'capital'}, 'a': {'she', 'queen', 'he', 'king', 'woman', 'man', 'is'}, 'king': {'he', 'is', 'a'}, 'she': {'queen', 'a', 'is', 'woman'}, 'queen': {'a', 'she', 'is'}, 'man': {'he', 'is', 'a'}, 'woman': {'a', 'she', 'is'}, 'warsaw': {'poland', 'is', 'capital'}, 'poland': {'is', 'capital', 'warsaw'}, 'capital': {'germany', 'poland', 'warsaw', 'berlin', 'paris', 'france', 'is'}, 'berlin': {'germany', 'is', 'capital'}, 'germany': {'berlin', 'is', 'capital'}, 'paris': {'france', 'is', 'capital'}, 'france': {'is', 'capital', 'paris'}}\n"
     ]
    }
   ],
   "source": [
    "all_dict = {}\n",
    "for idx in range(len(word2idx)):\n",
    "    word_pair = []\n",
    "    for center, context in idx_pairs:\n",
    "        if idx == center:\n",
    "            word_pair.append(idx2word[context])\n",
    "    all_dict[idx2word[idx]] = set(word_pair)\n",
    "    \n",
    "print(all_dict)"
   ]
  },
  {
   "cell_type": "code",
   "execution_count": 13,
   "metadata": {},
   "outputs": [
    {
     "data": {
      "image/png": "[encoded data removed]",
      "text/plain": [
       "<Figure size 720x720 with 1 Axes>"
      ]
     },
     "metadata": {},
     "output_type": "display_data"
    }
   ],
   "source": [
    "# If i choose W2\n",
    "# plotting correlation matrix\n",
    "# lighter color => more related\n",
    "\n",
    "import matplotlib.pyplot as plt\n",
    "\n",
    "corr = torch.matmul(W1, W1.permute(1, 0)).detach().numpy()\n",
    "plt.figure(figsize=(10, 10))\n",
    "plt.matshow(corr, fignum=1)\n",
    "\n",
    "groups = list(word2idx.keys())\n",
    "\n",
    "x_pos = np.arange(len(groups))\n",
    "plt.xticks(x_pos, groups)\n",
    "\n",
    "y_pos = np.arange(len(groups))\n",
    "plt.yticks(y_pos, groups)\n",
    "\n",
    "plt.show()"
   ]
  },
  {
   "cell_type": "code",
   "execution_count": 17,
   "metadata": {},
   "outputs": [
    {
     "name": "stdout",
     "output_type": "stream",
     "text": [
      "['he', 'is', 'a', 'king', 'she', 'queen', 'man', 'woman', 'warsaw', 'poland', 'capital', 'berlin', 'germany', 'paris', 'france']\n"
     ]
    },
    {
     "data": {
      "image/png": "[encoded data removed]",
      "text/plain": [
       "<Figure size 720x720 with 1 Axes>"
      ]
     },
     "metadata": {},
     "output_type": "display_data"
    }
   ],
   "source": [
    "# If I choose W1\n",
    "corr = torch.matmul(W1, W1.permute(1, 0)).detach().numpy()\n",
    "plt.figure(figsize=(10, 10))\n",
    "plt.matshow(corr, fignum=1)\n",
    "\n",
    "groups = list(word2idx.keys())\n",
    "print(groups)\n",
    "\n",
    "x_pos = np.arange(len(groups))\n",
    "plt.xticks(x_pos, groups)\n",
    "\n",
    "y_pos = np.arange(len(groups))\n",
    "plt.yticks(y_pos, groups)\n",
    "\n",
    "plt.show()"
   ]
  },
  {
   "cell_type": "code",
   "execution_count": 15,
   "metadata": {},
   "outputs": [
    {
     "name": "stdout",
     "output_type": "stream",
     "text": [
      "torch.Size([15, 15])\n"
     ]
    },
    {
     "data": {
      "image/png": "[encoded data removed]",
      "text/plain": [
       "<Figure size 720x720 with 1 Axes>"
      ]
     },
     "metadata": {},
     "output_type": "display_data"
    }
   ],
   "source": [
    "total = torch.matmul(W1, W2)\n",
    "print(total.shape)\n",
    "corr = torch.matmul(total, total.permute(1, 0)).detach().numpy()\n",
    "plt.figure(figsize=(10, 10))\n",
    "plt.matshow(corr, fignum=1)\n",
    "\n",
    "groups = list(word2idx.keys())\n",
    "\n",
    "x_pos = np.arange(len(groups))\n",
    "plt.xticks(x_pos, groups)\n",
    "\n",
    "y_pos = np.arange(len(groups))\n",
    "plt.yticks(y_pos, groups)\n",
    "\n",
    "plt.show()"
   ]
  },
  {
   "cell_type": "code",
   "execution_count": 16,
   "metadata": {},
   "outputs": [],
   "source": [
    "from tensorboardX import SummaryWriter"
   ]
  },
  {
   "cell_type": "code",
   "execution_count": 22,
   "metadata": {},
   "outputs": [],
   "source": [
    "writer = SummaryWriter(\"C:\\\\Users\\\\young\\\\Desktop\\\\tbx\")\n",
    "writer.add_embedding(W1, metadata=groups)\n",
    "writer.close()"
   ]
  },
  {
   "attachments": {},
   "cell_type": "markdown",
   "metadata": {},
   "source": [
    "### Result embedding graph using tensorboard\n",
    "\n",
    "![](07_tensorboard.PNG)"
   ]
  }
 ],
 "metadata": {
  "kernelspec": {
   "display_name": "pytorch",
   "language": "python",
   "name": "pytorch"
  },
  "language_info": {
   "codemirror_mode": {
    "name": "ipython",
    "version": 3
   },
   "file_extension": ".py",
   "mimetype": "text/x-python",
   "name": "python",
   "nbconvert_exporter": "python",
   "pygments_lexer": "ipython3",
   "version": "3.6.5"
  }
 },
 "nbformat": 4,
 "nbformat_minor": 2
}
