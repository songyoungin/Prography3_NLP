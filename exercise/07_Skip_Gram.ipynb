{
 "cells": [
  {
   "cell_type": "code",
   "execution_count": 1,
   "metadata": {},
   "outputs": [
    {
     "data": {
      "text/plain": [
       "<torch._C.Generator at 0x15c363fb4d0>"
      ]
     },
     "execution_count": 1,
     "metadata": {},
     "output_type": "execute_result"
    }
   ],
   "source": [
    "import torch\n",
    "import torch.nn as nn\n",
    "import torch.optim as optim\n",
    "import torch.nn.functional as F\n",
    "from torch.autograd import Variable\n",
    "\n",
    "import numpy as np\n",
    "from tensorboardX import SummaryWriter\n",
    "\n",
    "torch.manual_seed(1)"
   ]
  },
  {
   "cell_type": "code",
   "execution_count": 2,
   "metadata": {},
   "outputs": [],
   "source": [
    "# Device configuration\n",
    "device = torch.device(\"cuda:0\" if torch.cuda.is_available() else \"cpu\")"
   ]
  },
  {
   "cell_type": "code",
   "execution_count": 3,
   "metadata": {},
   "outputs": [],
   "source": [
    "# define corpus\n",
    "corpus = [\n",
    "    'he is a king',\n",
    "    'she is a queen',\n",
    "    'he is a man',\n",
    "    'she is a woman',\n",
    "    'warsaw is poland capital',\n",
    "    'berlin is germany capital',\n",
    "    'paris is france capital',\n",
    "]"
   ]
  },
  {
   "cell_type": "code",
   "execution_count": 4,
   "metadata": {},
   "outputs": [
    {
     "name": "stdout",
     "output_type": "stream",
     "text": [
      "tokenized corpus: [['he', 'is', 'a', 'king'], ['she', 'is', 'a', 'queen'], ['he', 'is', 'a', 'man'], ['she', 'is', 'a', 'woman'], ['warsaw', 'is', 'poland', 'capital'], ['berlin', 'is', 'germany', 'capital'], ['paris', 'is', 'france', 'capital']]\n",
      "word2idx: {'he': 0, 'is': 1, 'a': 2, 'king': 3, 'she': 4, 'queen': 5, 'man': 6, 'woman': 7, 'warsaw': 8, 'poland': 9, 'capital': 10, 'berlin': 11, 'germany': 12, 'paris': 13, 'france': 14}\n",
      "\n",
      "idx2word: {0: 'he', 1: 'is', 2: 'a', 3: 'king', 4: 'she', 5: 'queen', 6: 'man', 7: 'woman', 8: 'warsaw', 9: 'poland', 10: 'capital', 11: 'berlin', 12: 'germany', 13: 'paris', 14: 'france'}\n",
      "\n",
      "word_vocab_size: 15\n"
     ]
    }
   ],
   "source": [
    "# step1. creating vocabulary\n",
    "\n",
    "# tokenize sentences\n",
    "def tokenize_corpus(corpus):\n",
    "    tokens = [sentence.split() for sentence in corpus]\n",
    "    return tokens\n",
    "\n",
    "tokenized_corpus = tokenize_corpus(corpus)\n",
    "\n",
    "print(\"tokenized corpus:\", tokenized_corpus)\n",
    "\n",
    "# word->idx, idx->word\n",
    "word2idx = {}\n",
    "for sentence in tokenized_corpus:\n",
    "    for token in sentence:\n",
    "        if token not in word2idx:\n",
    "            word2idx[token] = len(word2idx)\n",
    "\n",
    "idx2word = {v: k for k, v in word2idx.items()}\n",
    "\n",
    "print(\"word2idx:\", word2idx)\n",
    "print(\"\\nidx2word:\", idx2word)\n",
    "\n",
    "word_vocab_size = len(word2idx)\n",
    "\n",
    "print(\"\\nword_vocab_size:\", word_vocab_size)"
   ]
  },
  {
   "cell_type": "code",
   "execution_count": 5,
   "metadata": {},
   "outputs": [
    {
     "name": "stdout",
     "output_type": "stream",
     "text": [
      "(70, 2)\n"
     ]
    }
   ],
   "source": [
    "# step 2. Generate pairs (center word - context word)\n",
    "window_size = 2\n",
    "idx_pairs = []\n",
    "\n",
    "# for each sentence\n",
    "for sentence in tokenized_corpus:\n",
    "    word_idxs = [word2idx[word] for word in sentence]\n",
    "    for center_word_pos in range(len(word_idxs)):\n",
    "        for w in range(-window_size, window_size+1):\n",
    "            context_word_pos = center_word_pos + w\n",
    "            \n",
    "            if context_word_pos < 0 or context_word_pos >= len(word_idxs) or center_word_pos == context_word_pos:\n",
    "                continue\n",
    "            idx_pairs.append((word_idxs[center_word_pos], word_idxs[context_word_pos]))\n",
    "            \n",
    "            \n",
    "idx_pairs = np.array(idx_pairs)\n",
    "print(idx_pairs.shape)"
   ]
  },
  {
   "cell_type": "markdown",
   "metadata": {},
   "source": [
    "## Defining goal\n",
    "@ We want to predict context, given center word and soma parametrization.\n",
    "\n",
    "@ We are making P(context | center) close to 0 for all non-existing (context, center) pairs."
   ]
  },
  {
   "cell_type": "code",
   "execution_count": 6,
   "metadata": {},
   "outputs": [],
   "source": [
    "# input layer: just the center word encoded in one-hot manner.\n",
    "def get_one_hot(word_idx, word_vocab_size):\n",
    "    x = torch.zeros(word_vocab_size).float()\n",
    "    x[word_idx] = 1.0\n",
    "    return x"
   ]
  },
  {
   "cell_type": "code",
   "execution_count": 12,
   "metadata": {},
   "outputs": [],
   "source": [
    "embedding_dim = 5\n",
    "num_epochs = 500\n",
    "lr = 0.03"
   ]
  },
  {
   "cell_type": "code",
   "execution_count": 13,
   "metadata": {},
   "outputs": [],
   "source": [
    "class W2Vnet(nn.Module):\n",
    "    def __init__(self, embedding_dim, word_vocab_size):\n",
    "        super(W2Vnet, self).__init__()\n",
    "        \n",
    "        self.net1 = nn.Linear(word_vocab_size, embedding_dim, bias=False)\n",
    "        self.net2 = nn.Linear(embedding_dim, word_vocab_size, bias=False)\n",
    "        \n",
    "    def forward(self, x):\n",
    "        out1 = self.net1(x)\n",
    "        out2 = self.net2(out1)\n",
    "        out = F.log_softmax(out2, dim=0).view(1, -1)\n",
    "        return out"
   ]
  },
  {
   "cell_type": "code",
   "execution_count": 14,
   "metadata": {},
   "outputs": [
    {
     "name": "stdout",
     "output_type": "stream",
     "text": [
      "W2Vnet(\n",
      "  (net1): Linear(in_features=15, out_features=5, bias=False)\n",
      "  (net2): Linear(in_features=5, out_features=15, bias=False)\n",
      ")\n"
     ]
    }
   ],
   "source": [
    "model = W2Vnet(embedding_dim, word_vocab_size).to(device)\n",
    "print(model)\n",
    "optimizer = optim.SGD(model.parameters(), lr=lr)"
   ]
  },
  {
   "cell_type": "code",
   "execution_count": 15,
   "metadata": {},
   "outputs": [
    {
     "name": "stdout",
     "output_type": "stream",
     "text": [
      "[1/500] loss:2.710\n",
      "[11/500] loss:2.437\n",
      "[21/500] loss:1.993\n",
      "[31/500] loss:1.870\n",
      "[41/500] loss:1.814\n",
      "[51/500] loss:1.779\n",
      "[61/500] loss:1.753\n",
      "[71/500] loss:1.732\n",
      "[81/500] loss:1.717\n",
      "[91/500] loss:1.705\n",
      "[101/500] loss:1.696\n",
      "[111/500] loss:1.688\n",
      "[121/500] loss:1.682\n",
      "[131/500] loss:1.678\n",
      "[141/500] loss:1.674\n",
      "[151/500] loss:1.672\n",
      "[161/500] loss:1.670\n",
      "[171/500] loss:1.669\n",
      "[181/500] loss:1.668\n",
      "[191/500] loss:1.668\n",
      "[201/500] loss:1.667\n",
      "[211/500] loss:1.667\n",
      "[221/500] loss:1.667\n",
      "[231/500] loss:1.666\n",
      "[241/500] loss:1.666\n",
      "[251/500] loss:1.666\n",
      "[261/500] loss:1.666\n",
      "[271/500] loss:1.666\n",
      "[281/500] loss:1.666\n",
      "[291/500] loss:1.666\n",
      "[301/500] loss:1.666\n",
      "[311/500] loss:1.666\n",
      "[321/500] loss:1.666\n",
      "[331/500] loss:1.666\n",
      "[341/500] loss:1.666\n",
      "[351/500] loss:1.666\n",
      "[361/500] loss:1.666\n",
      "[371/500] loss:1.666\n",
      "[381/500] loss:1.666\n",
      "[391/500] loss:1.666\n",
      "[401/500] loss:1.666\n",
      "[411/500] loss:1.666\n",
      "[421/500] loss:1.666\n",
      "[431/500] loss:1.667\n",
      "[441/500] loss:1.667\n",
      "[451/500] loss:1.667\n",
      "[461/500] loss:1.667\n",
      "[471/500] loss:1.667\n",
      "[481/500] loss:1.667\n",
      "[491/500] loss:1.667\n"
     ]
    }
   ],
   "source": [
    "for epoch in range(num_epochs):\n",
    "    loss_val = 0\n",
    "    for center, context in idx_pairs:    \n",
    "        input = get_one_hot(center, word_vocab_size).to(device).float()\n",
    "        target = torch.from_numpy(np.array([context])).to(device).long()\n",
    "        \n",
    "        output = model(input)\n",
    "    \n",
    "        loss = F.nll_loss(output, target)\n",
    "        loss_val += loss.item()\n",
    "        \n",
    "        model.zero_grad()\n",
    "        loss.backward()\n",
    "        optimizer.step()\n",
    "        \n",
    "    if epoch % 10 == 0:\n",
    "        print(\"[%d/%d] loss:%.3f\" % (epoch+1, num_epochs, loss_val / float(len(idx_pairs))))"
   ]
  },
  {
   "cell_type": "code",
   "execution_count": 16,
   "metadata": {},
   "outputs": [
    {
     "name": "stdout",
     "output_type": "stream",
     "text": [
      "After training:\n",
      "W1: [[ 0.3928717   0.3541354  -1.7281435   0.36305234  0.3059581   0.34199578\n",
      "   0.38376528  0.37513843  1.7270766  -0.524272    1.4157332   0.55498534\n",
      "  -1.7750574   0.99058914 -1.2203745 ]\n",
      " [-2.30546     0.6440879  -0.5704936  -2.2079875  -2.3035276  -2.2088296\n",
      "  -2.2037015  -2.207249   -1.1883634  -1.0973867  -1.1952554  -1.9348512\n",
      "  -1.7500494  -1.7532874  -0.9134545 ]\n",
      " [-0.2855567  -1.1544695   1.4688495  -0.2474238  -0.2972224  -0.30873835\n",
      "  -0.22912996 -0.24058919  1.5691415  -0.5259165   1.2277739   1.5843222\n",
      "  -1.1354835   0.40437767 -0.15140185]\n",
      " [-0.27139515 -0.52757233 -0.29394612 -0.29204765 -0.3136087  -0.22913398\n",
      "  -0.29299137 -0.2978228   1.4053267   2.3571827   0.5423706  -1.0966215\n",
      "   0.8031084   1.5849426   2.8319416 ]\n",
      " [ 0.95908415  0.1024945   0.437641    0.93682426  0.93030864  0.92941225\n",
      "   0.9836217   0.9565741   0.6477556   1.2725508  -0.71768785 -1.2365643\n",
      "  -1.4067404  -1.9701883  -0.7664447 ]]\n",
      "W1 shape: (5, 15)\n",
      "W2: [[-1.6115879   1.3282703   0.11716074 -0.53125054 -0.03197329]\n",
      " [-0.15155905 -2.7370777   1.0496459   0.90691805  0.03767163]\n",
      " [ 0.71161896 -1.8232596  -1.3701952  -0.8993106   0.8635587 ]\n",
      " [-0.85540074  0.7148805   0.35377005 -0.15179877  0.07146503]\n",
      " [-1.3659219   1.049978    0.23454711 -0.8806818   0.19001183]\n",
      " [-0.6309839   0.46699935  0.4587241  -0.48159656  0.23681198]\n",
      " [-0.45987263  0.45909098  0.597859   -0.62751365  0.49441355]\n",
      " [-0.3277377   0.31179905  0.6646013  -0.8542226   0.60986173]\n",
      " [ 0.1997801   0.4677941  -0.32922447  1.2992692   1.5666269 ]\n",
      " [ 2.5725849   0.4840031   0.91026753  0.28371516  0.7647415 ]\n",
      " [-0.19322698 -0.2584447  -2.1305745   1.515151   -0.18792403]\n",
      " [-0.47710338 -0.5284642  -0.84202796  0.04448705 -1.1694629 ]\n",
      " [ 1.6678004  -0.34402746  0.8636901  -1.5048338  -1.2212344 ]\n",
      " [-0.13903318  1.7091578  -0.41142517  1.8678255  -1.2286655 ]\n",
      " [ 1.8300126   0.2461699  -0.23485808  0.73520505 -2.2293863 ]]\n",
      "W2 shape: (15, 5)\n"
     ]
    }
   ],
   "source": [
    "print(\"After training:\")\n",
    "\n",
    "import numpy as np\n",
    "\n",
    "model.eval()\n",
    "\n",
    "W1 = np.array(list(model.net1.parameters()))[0].detach().cpu().numpy()\n",
    "W2 = np.array(list(model.net2.parameters()))[0].detach().cpu().numpy()\n",
    "print(\"W1:\", W1)\n",
    "print(\"W1 shape:\", W1.shape)\n",
    "print(\"W2:\", W2)\n",
    "print(\"W2 shape:\", W2.shape)"
   ]
  },
  {
   "cell_type": "code",
   "execution_count": 17,
   "metadata": {},
   "outputs": [
    {
     "data": {
      "image/png": "[encoded data removed]",
      "text/plain": [
       "<Figure size 720x720 with 1 Axes>"
      ]
     },
     "metadata": {},
     "output_type": "display_data"
    }
   ],
   "source": [
    "# If i choose W1\n",
    "# plotting correlation matrix\n",
    "# lighter color => more related\n",
    "\n",
    "import matplotlib.pyplot as plt\n",
    "\n",
    "W1_t = np.transpose(W1, (1, 0))\n",
    "\n",
    "corr = np.matmul(W1_t, W1)\n",
    "plt.figure(figsize=(10, 10))\n",
    "plt.matshow(corr, fignum=1)\n",
    "\n",
    "groups = list(word2idx.keys())\n",
    "x_pos = np.arange(len(groups))\n",
    "plt.xticks(x_pos, groups)\n",
    "\n",
    "y_pos = np.arange(len(groups))\n",
    "plt.yticks(y_pos, groups)\n",
    "\n",
    "plt.show()"
   ]
  },
  {
   "cell_type": "code",
   "execution_count": 18,
   "metadata": {},
   "outputs": [
    {
     "data": {
      "image/png": "[encoded data removed]",
      "text/plain": [
       "<Figure size 720x720 with 1 Axes>"
      ]
     },
     "metadata": {},
     "output_type": "display_data"
    }
   ],
   "source": [
    "# If I choose W2\n",
    "W2_t = np.transpose(W2, (1, 0))\n",
    "corr = np.matmul(W2, W2_t)\n",
    "plt.figure(figsize=(10, 10))\n",
    "plt.matshow(corr, fignum=1)\n",
    "\n",
    "x_pos = np.arange(len(groups))\n",
    "plt.xticks(x_pos, groups)\n",
    "\n",
    "y_pos = np.arange(len(groups))\n",
    "plt.yticks(y_pos, groups)\n",
    "\n",
    "plt.show()"
   ]
  },
  {
   "cell_type": "code",
   "execution_count": 19,
   "metadata": {},
   "outputs": [
    {
     "name": "stdout",
     "output_type": "stream",
     "text": [
      "(5, 15)\n",
      "15\n",
      "warning: Embedding dir exists, did you set global_step for add_embedding()?\n"
     ]
    }
   ],
   "source": [
    "writer = SummaryWriter(\".\\\\tensorboard\")\n",
    "\n",
    "print(W1.shape)\n",
    "print(len(groups))\n",
    "writer.add_embedding(W1_t, metadata=groups)\n",
    "writer.close()"
   ]
  },
  {
   "cell_type": "markdown",
   "metadata": {},
   "source": [
    "### Result embedding graph using tensorboard\n",
    "\n",
    "![](07_SG_tensorboard.PNG)"
   ]
  },
  {
   "cell_type": "code",
   "execution_count": null,
   "metadata": {},
   "outputs": [],
   "source": []
  },
  {
   "cell_type": "code",
   "execution_count": null,
   "metadata": {},
   "outputs": [],
   "source": []
  }
 ],
 "metadata": {
  "kernelspec": {
   "display_name": "PyTorch",
   "language": "python",
   "name": "pytorch"
  },
  "language_info": {
   "codemirror_mode": {
    "name": "ipython",
    "version": 3
   },
   "file_extension": ".py",
   "mimetype": "text/x-python",
   "name": "python",
   "nbconvert_exporter": "python",
   "pygments_lexer": "ipython3",
   "version": "3.6.5"
  }
 },
 "nbformat": 4,
 "nbformat_minor": 2
}
